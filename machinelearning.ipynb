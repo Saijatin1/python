{
 "cells": [
  {
   "cell_type": "code",
   "execution_count": 1,
   "id": "1a222cfe-c5ea-4b1b-acb5-41241dcb5eca",
   "metadata": {},
   "outputs": [
    {
     "data": {
      "text/html": [
       "<div>\n",
       "<style scoped>\n",
       "    .dataframe tbody tr th:only-of-type {\n",
       "        vertical-align: middle;\n",
       "    }\n",
       "\n",
       "    .dataframe tbody tr th {\n",
       "        vertical-align: top;\n",
       "    }\n",
       "\n",
       "    .dataframe thead th {\n",
       "        text-align: right;\n",
       "    }\n",
       "</style>\n",
       "<table border=\"1\" class=\"dataframe\">\n",
       "  <thead>\n",
       "    <tr style=\"text-align: right;\">\n",
       "      <th></th>\n",
       "      <th>PassengerId</th>\n",
       "      <th>Survived</th>\n",
       "      <th>Pclass</th>\n",
       "      <th>Name</th>\n",
       "      <th>Sex</th>\n",
       "      <th>Age</th>\n",
       "      <th>SibSp</th>\n",
       "      <th>Parch</th>\n",
       "      <th>Ticket</th>\n",
       "      <th>Fare</th>\n",
       "      <th>Cabin</th>\n",
       "      <th>Embarked</th>\n",
       "    </tr>\n",
       "  </thead>\n",
       "  <tbody>\n",
       "    <tr>\n",
       "      <th>0</th>\n",
       "      <td>1</td>\n",
       "      <td>0</td>\n",
       "      <td>3</td>\n",
       "      <td>Braund, Mr. Owen Harris</td>\n",
       "      <td>male</td>\n",
       "      <td>22.0</td>\n",
       "      <td>1</td>\n",
       "      <td>0</td>\n",
       "      <td>A/5 21171</td>\n",
       "      <td>7.2500</td>\n",
       "      <td>NaN</td>\n",
       "      <td>S</td>\n",
       "    </tr>\n",
       "    <tr>\n",
       "      <th>1</th>\n",
       "      <td>2</td>\n",
       "      <td>1</td>\n",
       "      <td>1</td>\n",
       "      <td>Cumings, Mrs. John Bradley (Florence Briggs Th...</td>\n",
       "      <td>female</td>\n",
       "      <td>38.0</td>\n",
       "      <td>1</td>\n",
       "      <td>0</td>\n",
       "      <td>PC 17599</td>\n",
       "      <td>71.2833</td>\n",
       "      <td>C85</td>\n",
       "      <td>C</td>\n",
       "    </tr>\n",
       "    <tr>\n",
       "      <th>2</th>\n",
       "      <td>3</td>\n",
       "      <td>1</td>\n",
       "      <td>3</td>\n",
       "      <td>Heikkinen, Miss. Laina</td>\n",
       "      <td>female</td>\n",
       "      <td>26.0</td>\n",
       "      <td>0</td>\n",
       "      <td>0</td>\n",
       "      <td>STON/O2. 3101282</td>\n",
       "      <td>7.9250</td>\n",
       "      <td>NaN</td>\n",
       "      <td>S</td>\n",
       "    </tr>\n",
       "    <tr>\n",
       "      <th>3</th>\n",
       "      <td>4</td>\n",
       "      <td>1</td>\n",
       "      <td>1</td>\n",
       "      <td>Futrelle, Mrs. Jacques Heath (Lily May Peel)</td>\n",
       "      <td>female</td>\n",
       "      <td>35.0</td>\n",
       "      <td>1</td>\n",
       "      <td>0</td>\n",
       "      <td>113803</td>\n",
       "      <td>53.1000</td>\n",
       "      <td>C123</td>\n",
       "      <td>S</td>\n",
       "    </tr>\n",
       "    <tr>\n",
       "      <th>4</th>\n",
       "      <td>5</td>\n",
       "      <td>0</td>\n",
       "      <td>3</td>\n",
       "      <td>Allen, Mr. William Henry</td>\n",
       "      <td>male</td>\n",
       "      <td>35.0</td>\n",
       "      <td>0</td>\n",
       "      <td>0</td>\n",
       "      <td>373450</td>\n",
       "      <td>8.0500</td>\n",
       "      <td>NaN</td>\n",
       "      <td>S</td>\n",
       "    </tr>\n",
       "    <tr>\n",
       "      <th>...</th>\n",
       "      <td>...</td>\n",
       "      <td>...</td>\n",
       "      <td>...</td>\n",
       "      <td>...</td>\n",
       "      <td>...</td>\n",
       "      <td>...</td>\n",
       "      <td>...</td>\n",
       "      <td>...</td>\n",
       "      <td>...</td>\n",
       "      <td>...</td>\n",
       "      <td>...</td>\n",
       "      <td>...</td>\n",
       "    </tr>\n",
       "    <tr>\n",
       "      <th>886</th>\n",
       "      <td>887</td>\n",
       "      <td>0</td>\n",
       "      <td>2</td>\n",
       "      <td>Montvila, Rev. Juozas</td>\n",
       "      <td>male</td>\n",
       "      <td>27.0</td>\n",
       "      <td>0</td>\n",
       "      <td>0</td>\n",
       "      <td>211536</td>\n",
       "      <td>13.0000</td>\n",
       "      <td>NaN</td>\n",
       "      <td>S</td>\n",
       "    </tr>\n",
       "    <tr>\n",
       "      <th>887</th>\n",
       "      <td>888</td>\n",
       "      <td>1</td>\n",
       "      <td>1</td>\n",
       "      <td>Graham, Miss. Margaret Edith</td>\n",
       "      <td>female</td>\n",
       "      <td>19.0</td>\n",
       "      <td>0</td>\n",
       "      <td>0</td>\n",
       "      <td>112053</td>\n",
       "      <td>30.0000</td>\n",
       "      <td>B42</td>\n",
       "      <td>S</td>\n",
       "    </tr>\n",
       "    <tr>\n",
       "      <th>888</th>\n",
       "      <td>889</td>\n",
       "      <td>0</td>\n",
       "      <td>3</td>\n",
       "      <td>Johnston, Miss. Catherine Helen \"Carrie\"</td>\n",
       "      <td>female</td>\n",
       "      <td>NaN</td>\n",
       "      <td>1</td>\n",
       "      <td>2</td>\n",
       "      <td>W./C. 6607</td>\n",
       "      <td>23.4500</td>\n",
       "      <td>NaN</td>\n",
       "      <td>S</td>\n",
       "    </tr>\n",
       "    <tr>\n",
       "      <th>889</th>\n",
       "      <td>890</td>\n",
       "      <td>1</td>\n",
       "      <td>1</td>\n",
       "      <td>Behr, Mr. Karl Howell</td>\n",
       "      <td>male</td>\n",
       "      <td>26.0</td>\n",
       "      <td>0</td>\n",
       "      <td>0</td>\n",
       "      <td>111369</td>\n",
       "      <td>30.0000</td>\n",
       "      <td>C148</td>\n",
       "      <td>C</td>\n",
       "    </tr>\n",
       "    <tr>\n",
       "      <th>890</th>\n",
       "      <td>891</td>\n",
       "      <td>0</td>\n",
       "      <td>3</td>\n",
       "      <td>Dooley, Mr. Patrick</td>\n",
       "      <td>male</td>\n",
       "      <td>32.0</td>\n",
       "      <td>0</td>\n",
       "      <td>0</td>\n",
       "      <td>370376</td>\n",
       "      <td>7.7500</td>\n",
       "      <td>NaN</td>\n",
       "      <td>Q</td>\n",
       "    </tr>\n",
       "  </tbody>\n",
       "</table>\n",
       "<p>891 rows × 12 columns</p>\n",
       "</div>"
      ],
      "text/plain": [
       "     PassengerId  Survived  Pclass  \\\n",
       "0              1         0       3   \n",
       "1              2         1       1   \n",
       "2              3         1       3   \n",
       "3              4         1       1   \n",
       "4              5         0       3   \n",
       "..           ...       ...     ...   \n",
       "886          887         0       2   \n",
       "887          888         1       1   \n",
       "888          889         0       3   \n",
       "889          890         1       1   \n",
       "890          891         0       3   \n",
       "\n",
       "                                                  Name     Sex   Age  SibSp  \\\n",
       "0                              Braund, Mr. Owen Harris    male  22.0      1   \n",
       "1    Cumings, Mrs. John Bradley (Florence Briggs Th...  female  38.0      1   \n",
       "2                               Heikkinen, Miss. Laina  female  26.0      0   \n",
       "3         Futrelle, Mrs. Jacques Heath (Lily May Peel)  female  35.0      1   \n",
       "4                             Allen, Mr. William Henry    male  35.0      0   \n",
       "..                                                 ...     ...   ...    ...   \n",
       "886                              Montvila, Rev. Juozas    male  27.0      0   \n",
       "887                       Graham, Miss. Margaret Edith  female  19.0      0   \n",
       "888           Johnston, Miss. Catherine Helen \"Carrie\"  female   NaN      1   \n",
       "889                              Behr, Mr. Karl Howell    male  26.0      0   \n",
       "890                                Dooley, Mr. Patrick    male  32.0      0   \n",
       "\n",
       "     Parch            Ticket     Fare Cabin Embarked  \n",
       "0        0         A/5 21171   7.2500   NaN        S  \n",
       "1        0          PC 17599  71.2833   C85        C  \n",
       "2        0  STON/O2. 3101282   7.9250   NaN        S  \n",
       "3        0            113803  53.1000  C123        S  \n",
       "4        0            373450   8.0500   NaN        S  \n",
       "..     ...               ...      ...   ...      ...  \n",
       "886      0            211536  13.0000   NaN        S  \n",
       "887      0            112053  30.0000   B42        S  \n",
       "888      2        W./C. 6607  23.4500   NaN        S  \n",
       "889      0            111369  30.0000  C148        C  \n",
       "890      0            370376   7.7500   NaN        Q  \n",
       "\n",
       "[891 rows x 12 columns]"
      ]
     },
     "execution_count": 1,
     "metadata": {},
     "output_type": "execute_result"
    }
   ],
   "source": [
    "import pandas as pd\n",
    "df=pd.read_csv(r\"titanic.csv\")\n",
    "df"
   ]
  },
  {
   "cell_type": "code",
   "execution_count": 1,
   "id": "ba109c26-329d-479f-8cb9-5e89f8afbe26",
   "metadata": {},
   "outputs": [
    {
     "data": {
      "text/plain": [
       "array([19, 20, 19, 18, 20, 18, 20, 19, 19, 18, 18, 19, 18, 19, 19, 20, 20,\n",
       "       18, 18, 19, 18, 19, 18, 20, 19, 19, 19, 18, 19, 18, 18, 20, 20, 18,\n",
       "       19, 20, 19, 19, 20, 20, 18, 20, 19, 20, 20, 19, 18, 20, 18, 19, 18,\n",
       "       20, 19, 18, 20, 18, 19, 18, 20, 19, 20, 18, 18, 18, 18, 19, 20, 18,\n",
       "       20, 20, 19, 20, 20, 19, 20, 20, 18, 20, 20, 20, 19, 19, 18, 18, 18,\n",
       "       20, 18, 19, 19, 20, 18, 19, 19, 20, 19, 18, 19, 19, 18, 19, 20, 20,\n",
       "       19, 20, 19, 18, 20, 20, 19, 20, 18, 20, 19, 18, 18, 19, 19, 19, 20,\n",
       "       18, 20, 18, 19, 18, 18, 19, 20, 20, 20, 20, 20, 19, 19, 20, 20, 20,\n",
       "       18, 18, 19, 18, 20, 18, 19, 20, 20, 18, 18, 20, 20, 19, 18, 19, 20,\n",
       "       18, 20, 19, 19, 20, 20, 18, 19, 19, 18, 20, 18, 20, 20, 20, 18, 20,\n",
       "       18, 19, 19, 18, 19, 19, 18, 20, 20, 19, 20, 19, 18, 18, 20, 20, 20,\n",
       "       19, 19, 20, 20, 20, 20, 19, 18, 20, 18, 20, 18, 19, 19, 18, 18, 20,\n",
       "       20, 20, 19, 18, 18, 20, 18, 20, 18, 18, 19, 18, 18, 20, 18, 18, 18,\n",
       "       18, 18, 20, 18, 19, 19, 20, 20, 18, 18, 20, 18, 19, 19, 18, 18, 19,\n",
       "       19, 18, 18, 18, 20, 19, 20, 18, 18, 18, 20, 19, 20, 18, 18, 19, 20,\n",
       "       20, 19, 19, 19, 18, 19, 19, 19, 20, 19, 19, 18, 20, 20, 18, 18, 18,\n",
       "       19, 19, 18, 20, 19, 20, 20, 20, 19, 18, 20, 19, 18, 20, 20, 19, 20,\n",
       "       19, 18, 18, 19, 19, 19, 19, 19, 20, 18, 18], dtype=int32)"
      ]
     },
     "execution_count": 1,
     "metadata": {},
     "output_type": "execute_result"
    }
   ],
   "source": [
    "import numpy as np\n",
    "np.random.randint(18,21,(300))"
   ]
  },
  {
   "cell_type": "code",
   "execution_count": 2,
   "id": "d80241b1-c4a4-4ba9-b3c8-35dce5be9600",
   "metadata": {},
   "outputs": [],
   "source": [
    "np.random.seed(400)\n",
    "arr=np.random.randint(20,99,(6,7))"
   ]
  },
  {
   "cell_type": "code",
   "execution_count": 3,
   "id": "db48ff7f-80f5-4ab0-afd4-72c2bf79d798",
   "metadata": {},
   "outputs": [
    {
     "data": {
      "text/plain": [
       "array([[82, 77, 32, 43, 26, 28, 83],\n",
       "       [90, 47, 51, 54, 21, 59, 34],\n",
       "       [89, 70, 43, 41, 98, 24, 69],\n",
       "       [34, 72, 69, 87, 93, 53, 42],\n",
       "       [49, 64, 96, 21, 57, 25, 57],\n",
       "       [56, 87, 94, 66, 84, 53, 73]], dtype=int32)"
      ]
     },
     "execution_count": 3,
     "metadata": {},
     "output_type": "execute_result"
    }
   ],
   "source": [
    "arr"
   ]
  },
  {
   "cell_type": "code",
   "execution_count": 4,
   "id": "50ae5789-b877-4bcd-ab56-a44612f9b5ec",
   "metadata": {},
   "outputs": [
    {
     "data": {
      "text/plain": [
       "42"
      ]
     },
     "execution_count": 4,
     "metadata": {},
     "output_type": "execute_result"
    }
   ],
   "source": [
    "arr.size"
   ]
  },
  {
   "cell_type": "code",
   "execution_count": 5,
   "id": "cbc481a6-ae2a-4031-b0ba-5b1525832fbc",
   "metadata": {},
   "outputs": [
    {
     "data": {
      "text/plain": [
       "[2, 43, 24, 2, 34]"
      ]
     },
     "execution_count": 5,
     "metadata": {},
     "output_type": "execute_result"
    }
   ],
   "source": [
    "m=[2,43,24,2,34]\n",
    "m"
   ]
  },
  {
   "cell_type": "code",
   "execution_count": 9,
   "id": "4cd174fd-3586-4c94-a84d-b01468b9b9ad",
   "metadata": {},
   "outputs": [
    {
     "data": {
      "text/plain": [
       "[4, 1849, 576, 4, 1156]"
      ]
     },
     "execution_count": 9,
     "metadata": {},
     "output_type": "execute_result"
    }
   ],
   "source": [
    "n=[i*i for i in m]\n",
    "n"
   ]
  },
  {
   "cell_type": "code",
   "execution_count": 10,
   "id": "64d283f1-1c0f-47a6-aad4-ced35fccd398",
   "metadata": {},
   "outputs": [
    {
     "data": {
      "text/plain": [
       "<generator object <genexpr> at 0x000001CBF4814380>"
      ]
     },
     "execution_count": 10,
     "metadata": {},
     "output_type": "execute_result"
    }
   ],
   "source": [
    "b=(i*i for i in m)\n",
    "b"
   ]
  },
  {
   "cell_type": "code",
   "execution_count": 11,
   "id": "3922d8f4-7d01-4590-ae51-ee379215cecc",
   "metadata": {},
   "outputs": [
    {
     "data": {
      "text/plain": [
       "(7, 48, 29, 7, 39)"
      ]
     },
     "execution_count": 11,
     "metadata": {},
     "output_type": "execute_result"
    }
   ],
   "source": [
    "b=tuple(x+5 for x in m)\n",
    "b"
   ]
  },
  {
   "cell_type": "code",
   "execution_count": 12,
   "id": "9f22808d-dcf7-4e0c-bcc5-12e92cb7cb0b",
   "metadata": {},
   "outputs": [
    {
     "data": {
      "text/plain": [
       "[87, 8, 89, 685, 86]"
      ]
     },
     "execution_count": 12,
     "metadata": {},
     "output_type": "execute_result"
    }
   ],
   "source": [
    "k=[87,8,89,685,86]\n",
    "k"
   ]
  },
  {
   "cell_type": "code",
   "execution_count": 13,
   "id": "1b793035-2cdd-4197-946e-5a10b39047c9",
   "metadata": {},
   "outputs": [
    {
     "data": {
      "text/plain": [
       "(92, 13, 94, 690, 91)"
      ]
     },
     "execution_count": 13,
     "metadata": {},
     "output_type": "execute_result"
    }
   ],
   "source": [
    "l=tuple(x+5 for x in k)\n",
    "l"
   ]
  },
  {
   "cell_type": "code",
   "execution_count": 2,
   "id": "a5202535-a3e9-411b-8ab2-4fa6b577a69e",
   "metadata": {},
   "outputs": [],
   "source": [
    "import numpy as np"
   ]
  },
  {
   "cell_type": "code",
   "execution_count": 5,
   "id": "910f8cf5-7fd1-4b43-b2a8-92dc2b67d68e",
   "metadata": {},
   "outputs": [],
   "source": [
    "a=np.random.randint(30,50,15)"
   ]
  },
  {
   "cell_type": "code",
   "execution_count": 6,
   "id": "6491c3e3-a8b4-4f1c-8e49-fc78f34bbe4a",
   "metadata": {},
   "outputs": [
    {
     "data": {
      "text/plain": [
       "array([42, 41, 36, 33, 44, 44, 44, 40, 47, 35, 44, 36, 38, 39, 35],\n",
       "      dtype=int32)"
      ]
     },
     "execution_count": 6,
     "metadata": {},
     "output_type": "execute_result"
    }
   ],
   "source": [
    "a"
   ]
  },
  {
   "cell_type": "code",
   "execution_count": 13,
   "id": "cc00737e-f0e0-46dd-b2e2-21d28efe918b",
   "metadata": {},
   "outputs": [
    {
     "data": {
      "text/plain": [
       "array([[63, 45, 48, 67, 74, 64, 61, 53],\n",
       "       [61, 59, 55, 77, 69, 69, 48, 60],\n",
       "       [71, 56, 51, 58, 59, 47, 68, 77],\n",
       "       [46, 45, 52, 74, 65, 53, 60, 55],\n",
       "       [64, 72, 46, 69, 65, 75, 75, 51],\n",
       "       [75, 67, 53, 77, 60, 67, 67, 47],\n",
       "       [75, 54, 74, 69, 54, 64, 52, 61]], dtype=int32)"
      ]
     },
     "execution_count": 13,
     "metadata": {},
     "output_type": "execute_result"
    }
   ],
   "source": [
    "np.random.seed(94)\n",
    "b=np.random.randint(45,78,(7,8))\n",
    "b\n"
   ]
  },
  {
   "cell_type": "code",
   "execution_count": 20,
   "id": "dbbd47d0-28ea-45a7-9f1a-e542da63cdf5",
   "metadata": {},
   "outputs": [
    {
     "data": {
      "text/plain": [
       "array([[71, 56, 51, 58, 59, 47, 68, 77],\n",
       "       [46, 45, 52, 74, 65, 53, 60, 55],\n",
       "       [64, 72, 46, 69, 65, 75, 75, 51],\n",
       "       [75, 67, 53, 77, 60, 67, 67, 47],\n",
       "       [75, 54, 74, 69, 54, 64, 52, 61]], dtype=int32)"
      ]
     },
     "execution_count": 20,
     "metadata": {},
     "output_type": "execute_result"
    }
   ],
   "source": [
    "b[1:][1:7]"
   ]
  },
  {
   "cell_type": "code",
   "execution_count": 25,
   "id": "e0cc0106-0f93-4bce-b9d9-42915daf1b06",
   "metadata": {},
   "outputs": [
    {
     "data": {
      "text/plain": [
       "array([[59, 55, 77, 69, 69, 48],\n",
       "       [56, 51, 58, 59, 47, 68],\n",
       "       [45, 52, 74, 65, 53, 60],\n",
       "       [72, 46, 69, 65, 75, 75],\n",
       "       [67, 53, 77, 60, 67, 67],\n",
       "       [54, 74, 69, 54, 64, 52]], dtype=int32)"
      ]
     },
     "execution_count": 25,
     "metadata": {},
     "output_type": "execute_result"
    }
   ],
   "source": [
    "b[-6::1,-7:-1:1]"
   ]
  },
  {
   "cell_type": "code",
   "execution_count": 27,
   "id": "a26034f0-d348-4242-8e2e-5d9ef12b3142",
   "metadata": {},
   "outputs": [
    {
     "data": {
      "text/plain": [
       "array([[61, 55, 69, 48],\n",
       "       [71, 51, 59, 68],\n",
       "       [46, 52, 65, 60],\n",
       "       [64, 46, 65, 75],\n",
       "       [75, 53, 60, 67]], dtype=int32)"
      ]
     },
     "execution_count": 27,
     "metadata": {},
     "output_type": "execute_result"
    }
   ],
   "source": [
    "b[1:6,0::2]"
   ]
  },
  {
   "cell_type": "code",
   "execution_count": null,
   "id": "e121216c-caf4-413c-b0df-011ddb7bcdbc",
   "metadata": {},
   "outputs": [],
   "source": []
  }
 ],
 "metadata": {
  "kernelspec": {
   "display_name": "Python 3 (ipykernel)",
   "language": "python",
   "name": "python3"
  },
  "language_info": {
   "codemirror_mode": {
    "name": "ipython",
    "version": 3
   },
   "file_extension": ".py",
   "mimetype": "text/x-python",
   "name": "python",
   "nbconvert_exporter": "python",
   "pygments_lexer": "ipython3",
   "version": "3.12.5"
  }
 },
 "nbformat": 4,
 "nbformat_minor": 5
}
